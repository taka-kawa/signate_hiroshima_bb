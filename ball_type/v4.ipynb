{
 "cells": [
  {
   "cell_type": "markdown",
   "metadata": {},
   "source": [
    "# メモ\n",
    "- ルールに則り、1選手単位の特徴量を削除\n",
    "    - 捕手ID削除\n",
    "    \n",
    "\n",
    "# 特徴量\n",
    "## pitch\n",
    "- 試合内投球数\n",
    "- イニング\n",
    "- イニング内打席数\n",
    "- 打席内投球数\n",
    "- 投手投球左右\n",
    "- 投手役割\n",
    "- 打者打席左右\n",
    "- 打者打順\n",
    "- プレイ前アウト数\n",
    "- プレイ前ボール数\n",
    "- プレイ前ストライク数\n",
    "- プレイ前走者状況\n",
    "\n",
    "### 追加\n",
    "- ホームチームID\n",
    "- アウェイチームID\n",
    "- 球場ID\n",
    "- 試合種別詳細\n",
    "- 表裏\n",
    "- 打者チームID\n",
    "- 打者守備位置\n",
    "- 打者試合内打席数\n",
    "- プレイ前ホームチーム得点数\n",
    "- プレイ前アウェイチーム得点数\n",
    "- 投手登板順\n",
    "- 投手イニング投球数\n",
    "- 投手試合内対戦打者数\n",
    "\n",
    "## player\n",
    "### 打者&投手\n",
    "- 育成選手F\n",
    "- 位置\n",
    "- 身長\n",
    "- 体重\n",
    "- 年俸\n",
    "- 出身国\n",
    "\n",
    "### 追加\n",
    "- ドラフト順位"
   ]
  },
  {
   "cell_type": "code",
   "execution_count": 1,
   "metadata": {},
   "outputs": [],
   "source": [
    "import pandas as pd\n",
    "import numpy as np\n",
    "pd.set_option('display.max_columns', 500)\n",
    "pd.set_option('display.max_rows', 500)\n",
    "\n",
    "df_tr_pitch = pd.read_csv('../data/train_pitch.csv')\n",
    "df_tr_player = pd.read_csv('../data/train_player.csv')\n",
    "df_te_pitch = pd.read_csv('../data/test_pitch.csv')\n",
    "df_te_player = pd.read_csv('../data/test_player.csv')\n",
    "df_smp = pd.read_csv('../data/sample_submit_ball_type.csv', header=None)"
   ]
  },
  {
   "cell_type": "code",
   "execution_count": 3,
   "metadata": {},
   "outputs": [],
   "source": [
    "import sys\n",
    "sys.path.append(\"..\")\n",
    "\n",
    "import tqdm\n",
    "import time\n",
    "import preprocess\n",
    "import importlib\n",
    "import re\n",
    "importlib.reload(preprocess)\n",
    "cnvrt = preprocess.Converter()\n",
    "df_tr = cnvrt.convert_df(df_tr_pitch, df_tr_player)"
   ]
  },
  {
   "cell_type": "code",
   "execution_count": 4,
   "metadata": {
    "scrolled": true
   },
   "outputs": [
    {
     "data": {
      "text/plain": [
       "['num_data',\n",
       " 'num_game_throw',\n",
       " 'ord_inning',\n",
       " 'num_inning_bat',\n",
       " 'num_pitch_in_bat',\n",
       " 'ord_pitching',\n",
       " 'num_pitcher_vs',\n",
       " 'num_pitching_game',\n",
       " 'num_pitching_inning',\n",
       " 'ord_bat',\n",
       " 'num_batter_batting',\n",
       " 'num_point_home',\n",
       " 'num_point_away',\n",
       " 'num_out',\n",
       " 'num_ball',\n",
       " 'num_strike',\n",
       " 'cat_pitcher_lr',\n",
       " 'cat_pitcher_role',\n",
       " 'cat_bat_lr',\n",
       " 'cat_runner_state',\n",
       " 'cat_home_id',\n",
       " 'cat_away_id',\n",
       " 'cat_dome_id',\n",
       " 'cat_game_detail',\n",
       " 'cat_fb',\n",
       " 'cat_pitcher_team_id',\n",
       " 'cat_batter_team_id',\n",
       " 'cat_batter_def_posi',\n",
       " 'num_height_batter',\n",
       " 'num_weight_batter',\n",
       " 'ord_draft_batter',\n",
       " 'num_annual_salary_batter',\n",
       " 'cat_training_player_batter',\n",
       " 'cat_position_batter',\n",
       " 'cat_country_batter',\n",
       " 'num_height_pitcher',\n",
       " 'num_weight_pitcher',\n",
       " 'ord_draft_pitcher',\n",
       " 'num_annual_salary_pitcher',\n",
       " 'cat_training_player_pitcher',\n",
       " 'cat_position_pitcher',\n",
       " 'cat_country_pitcher']"
      ]
     },
     "execution_count": 4,
     "metadata": {},
     "output_type": "execute_result"
    }
   ],
   "source": [
    "features = []\n",
    "for x in df_tr.keys():\n",
    "    if re.match(r\"^num_|^ord_|^cat_\", x) is not None:\n",
    "        features.append(x)\n",
    "features"
   ]
  },
  {
   "cell_type": "code",
   "execution_count": 5,
   "metadata": {},
   "outputs": [],
   "source": [
    "tr_X = df_tr[features]\n",
    "tr_Y = df_tr[\"ball_type\"]"
   ]
  },
  {
   "cell_type": "code",
   "execution_count": 6,
   "metadata": {},
   "outputs": [],
   "source": [
    "from sklearn.model_selection import KFold\n",
    "\n",
    "cv_num = 5\n",
    "kf = KFold(n_splits=cv_num, shuffle=True)\n",
    "\n",
    "kf_index = []\n",
    "for tr_i, te_i in kf.split(tr_X):\n",
    "    kf_index.append([tr_i, te_i])"
   ]
  },
  {
   "cell_type": "code",
   "execution_count": 7,
   "metadata": {
    "scrolled": true
   },
   "outputs": [
    {
     "name": "stdout",
     "output_type": "stream",
     "text": [
      "train 0\n",
      "[50]\tvalid_0's multi_logloss: 1.26203\n",
      "[100]\tvalid_0's multi_logloss: 1.21145\n",
      "[150]\tvalid_0's multi_logloss: 1.19139\n",
      "[200]\tvalid_0's multi_logloss: 1.17965\n",
      "[250]\tvalid_0's multi_logloss: 1.17116\n",
      "[300]\tvalid_0's multi_logloss: 1.16461\n",
      "[350]\tvalid_0's multi_logloss: 1.16029\n",
      "[400]\tvalid_0's multi_logloss: 1.15683\n",
      "[450]\tvalid_0's multi_logloss: 1.15454\n",
      "[500]\tvalid_0's multi_logloss: 1.15253\n",
      "train 1\n",
      "[50]\tvalid_0's multi_logloss: 1.26223\n",
      "[100]\tvalid_0's multi_logloss: 1.20945\n",
      "[150]\tvalid_0's multi_logloss: 1.18945\n",
      "[200]\tvalid_0's multi_logloss: 1.1782\n",
      "[250]\tvalid_0's multi_logloss: 1.16985\n",
      "[300]\tvalid_0's multi_logloss: 1.16411\n",
      "[350]\tvalid_0's multi_logloss: 1.15967\n",
      "[400]\tvalid_0's multi_logloss: 1.15636\n",
      "[450]\tvalid_0's multi_logloss: 1.15359\n",
      "[500]\tvalid_0's multi_logloss: 1.15138\n",
      "train 2\n",
      "[50]\tvalid_0's multi_logloss: 1.26326\n",
      "[100]\tvalid_0's multi_logloss: 1.20965\n",
      "[150]\tvalid_0's multi_logloss: 1.18989\n",
      "[200]\tvalid_0's multi_logloss: 1.17819\n",
      "[250]\tvalid_0's multi_logloss: 1.16974\n",
      "[300]\tvalid_0's multi_logloss: 1.16329\n",
      "[350]\tvalid_0's multi_logloss: 1.15815\n",
      "[400]\tvalid_0's multi_logloss: 1.15446\n",
      "[450]\tvalid_0's multi_logloss: 1.1515\n",
      "[500]\tvalid_0's multi_logloss: 1.1496\n",
      "train 3\n",
      "[50]\tvalid_0's multi_logloss: 1.25762\n",
      "[100]\tvalid_0's multi_logloss: 1.20509\n",
      "[150]\tvalid_0's multi_logloss: 1.18427\n",
      "[200]\tvalid_0's multi_logloss: 1.17314\n",
      "[250]\tvalid_0's multi_logloss: 1.16513\n",
      "[300]\tvalid_0's multi_logloss: 1.15879\n",
      "[350]\tvalid_0's multi_logloss: 1.15412\n",
      "[400]\tvalid_0's multi_logloss: 1.15052\n",
      "[450]\tvalid_0's multi_logloss: 1.14723\n",
      "[500]\tvalid_0's multi_logloss: 1.14459\n",
      "train 4\n",
      "[50]\tvalid_0's multi_logloss: 1.26522\n",
      "[100]\tvalid_0's multi_logloss: 1.21415\n",
      "[150]\tvalid_0's multi_logloss: 1.19337\n",
      "[200]\tvalid_0's multi_logloss: 1.18076\n",
      "[250]\tvalid_0's multi_logloss: 1.17249\n",
      "[300]\tvalid_0's multi_logloss: 1.16652\n",
      "[350]\tvalid_0's multi_logloss: 1.16209\n",
      "[400]\tvalid_0's multi_logloss: 1.15849\n",
      "[450]\tvalid_0's multi_logloss: 1.15591\n",
      "[500]\tvalid_0's multi_logloss: 1.15366\n"
     ]
    }
   ],
   "source": [
    "from sklearn.metrics import log_loss # モデル評価用(logloss) \n",
    "import lightgbm as lgb #LightGBM\n",
    "\n",
    "# params\n",
    "params = {\n",
    "    \"task\": \"train\",\n",
    "    \"boosting_type\": \"gbdt\",\n",
    "    \"objective\": \"multiclass\",\n",
    "    \"num_class\": 8,\n",
    "    \"metric\": \"multi_logloss\",\n",
    "    \"verbose\": 2\n",
    "}\n",
    "\n",
    "# train\n",
    "loss_list = []\n",
    "models = []\n",
    "for i, kf in enumerate(kf_index):\n",
    "    train_x = tr_X.iloc[kf[0]]\n",
    "    train_y = tr_Y.iloc[kf[0]]\n",
    "    test_x = tr_X.iloc[kf[1]]\n",
    "    test_y = tr_Y.iloc[kf[1]]\n",
    "    \n",
    "    \n",
    "    train_data = lgb.Dataset(train_x, label=train_y)\n",
    "    eval_data = lgb.Dataset(test_x, label=test_y)\n",
    "    \n",
    "    print(f\"train {i}\")\n",
    "    gbm = lgb.train(\n",
    "        params,\n",
    "        train_data, \n",
    "        valid_sets=eval_data,\n",
    "        num_boost_round=500,\n",
    "        verbose_eval=50\n",
    "    )\n",
    "    \n",
    "    models.append(gbm)"
   ]
  },
  {
   "cell_type": "markdown",
   "metadata": {},
   "source": [
    "# 予測"
   ]
  },
  {
   "cell_type": "code",
   "execution_count": 8,
   "metadata": {},
   "outputs": [],
   "source": [
    "df_te = cnvrt.convert_df(df_te_pitch, df_te_player, isTrain=False)\n",
    "te_X = df_te[features]"
   ]
  },
  {
   "cell_type": "code",
   "execution_count": 9,
   "metadata": {},
   "outputs": [
    {
     "name": "stdout",
     "output_type": "stream",
     "text": [
      "start model0\n",
      "end time : 89.3405327796936\n",
      "start model1\n",
      "end time : 85.62753915786743\n",
      "start model2\n",
      "end time : 90.66072297096252\n",
      "start model3\n",
      "end time : 87.75399374961853\n",
      "start model4\n",
      "end time : 87.06843495368958\n"
     ]
    }
   ],
   "source": [
    "result = []\n",
    "for i, model in enumerate(models):\n",
    "    start = time.time()\n",
    "    print(f\"start model{i}\")\n",
    "    result.append(model.predict(te_X))\n",
    "    print(f\"end time : {time.time()-start}\")"
   ]
  },
  {
   "cell_type": "code",
   "execution_count": 10,
   "metadata": {},
   "outputs": [],
   "source": [
    "from scipy.special import softmax\n",
    "result = np.array(result)\n",
    "final_result = np.sum(result, axis=0)\n",
    "final_result = softmax(final_result, axis=1)"
   ]
  },
  {
   "cell_type": "code",
   "execution_count": 11,
   "metadata": {},
   "outputs": [],
   "source": [
    "df_submit = pd.concat([df_smp[0], pd.DataFrame(final_result)], axis=1).reset_index(drop=True)\n",
    "df_submit.columns = range(df_submit.shape[1])\n",
    "df_submit.to_csv(\"submits/v4.csv\", index=False, header=False)"
   ]
  },
  {
   "cell_type": "code",
   "execution_count": null,
   "metadata": {},
   "outputs": [],
   "source": []
  }
 ],
 "metadata": {
  "kernelspec": {
   "display_name": "Python 3",
   "language": "python",
   "name": "python3"
  },
  "language_info": {
   "codemirror_mode": {
    "name": "ipython",
    "version": 3
   },
   "file_extension": ".py",
   "mimetype": "text/x-python",
   "name": "python",
   "nbconvert_exporter": "python",
   "pygments_lexer": "ipython3",
   "version": "3.6.10"
  }
 },
 "nbformat": 4,
 "nbformat_minor": 4
}
