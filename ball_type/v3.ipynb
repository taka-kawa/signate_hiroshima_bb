{
 "cells": [
  {
   "cell_type": "markdown",
   "metadata": {},
   "source": [
    "# メモ\n",
    "- 変数追加\n",
    "    \n",
    "\n",
    "# 特徴量\n",
    "## pitch\n",
    "- 試合内投球数\n",
    "- イニング\n",
    "- イニング内打席数\n",
    "- 打席内投球数\n",
    "- 投手投球左右\n",
    "- 投手役割\n",
    "- 打者打席左右\n",
    "- 打者打順\n",
    "- プレイ前アウト数\n",
    "- プレイ前ボール数\n",
    "- プレイ前ストライク数\n",
    "- プレイ前走者状況\n",
    "\n",
    "### 追加\n",
    "- ホームチームID\n",
    "- アウェイチームID\n",
    "- 捕手\n",
    "- 球場ID\n",
    "- 試合種別詳細\n",
    "- 表裏\n",
    "- 打者チームID\n",
    "- 打者守備位置\n",
    "- 打者試合内打席数\n",
    "- プレイ前ホームチーム得点数\n",
    "- プレイ前アウェイチーム得点数\n",
    "- 投手登板順\n",
    "- 投手イニング投球数\n",
    "- 投手試合内対戦打者数\n",
    "\n",
    "## player\n",
    "### 打者&投手\n",
    "- 育成選手F\n",
    "- 位置\n",
    "- 身長\n",
    "- 体重\n",
    "- 年俸\n",
    "- 出身国\n",
    "\n",
    "### 追加\n",
    "- ドラフト順位"
   ]
  },
  {
   "cell_type": "code",
   "execution_count": 1,
   "metadata": {},
   "outputs": [],
   "source": [
    "import pandas as pd\n",
    "import numpy as np\n",
    "pd.set_option('display.max_columns', 500)\n",
    "pd.set_option('display.max_rows', 500)\n",
    "\n",
    "df_tr_pitch = pd.read_csv('../data/train_pitch.csv')\n",
    "df_tr_player = pd.read_csv('../data/train_player.csv')\n",
    "df_te_pitch = pd.read_csv('../data/test_pitch.csv')\n",
    "df_te_player = pd.read_csv('../data/test_player.csv')\n",
    "df_smp = pd.read_csv('../data/sample_submit_ball_type.csv', header=None)"
   ]
  },
  {
   "cell_type": "code",
   "execution_count": 2,
   "metadata": {},
   "outputs": [],
   "source": [
    "import sys\n",
    "sys.path.append(\"..\")\n",
    "\n",
    "import tqdm\n",
    "import time\n",
    "import preprocess\n",
    "import importlib\n",
    "importlib.reload(preprocess)\n",
    "cnvrt = preprocess.Converter()\n",
    "df_tr = cnvrt.convert_df(df_tr_pitch, df_tr_player)"
   ]
  },
  {
   "cell_type": "code",
   "execution_count": 10,
   "metadata": {},
   "outputs": [
    {
     "data": {
      "text/plain": [
       "True"
      ]
     },
     "execution_count": 10,
     "metadata": {},
     "output_type": "execute_result"
    }
   ],
   "source": [
    "import re\n",
    "re.match(r\"^num_|^ord_|^cat_\", \"_num_alskdj\") is None"
   ]
  },
  {
   "cell_type": "code",
   "execution_count": 13,
   "metadata": {
    "scrolled": true
   },
   "outputs": [
    {
     "data": {
      "text/plain": [
       "['num_data',\n",
       " 'num_game_throw',\n",
       " 'ord_inning',\n",
       " 'num_inning_bat',\n",
       " 'num_pitch_in_bat',\n",
       " 'ord_pitching',\n",
       " 'num_pitcher_vs',\n",
       " 'num_pitching_game',\n",
       " 'num_pitching_inning',\n",
       " 'ord_bat',\n",
       " 'num_batter_batting',\n",
       " 'num_point_home',\n",
       " 'num_point_away',\n",
       " 'num_out',\n",
       " 'num_ball',\n",
       " 'num_strike',\n",
       " 'cat_pitcher_lr',\n",
       " 'cat_pitcher_role',\n",
       " 'cat_bat_lr',\n",
       " 'cat_runner_state',\n",
       " 'cat_home_id',\n",
       " 'cat_away_id',\n",
       " 'cat_dome_id',\n",
       " 'cat_game_detail',\n",
       " 'cat_fb',\n",
       " 'cat_pitcher_team_id',\n",
       " 'cat_batter_team_id',\n",
       " 'cat_batter_def_posi',\n",
       " 'cat_catcher_id',\n",
       " 'num_height_batter',\n",
       " 'num_weight_batter',\n",
       " 'ord_draft_batter',\n",
       " 'num_annual_salary_batter',\n",
       " 'cat_training_player_batter',\n",
       " 'cat_position_batter',\n",
       " 'cat_country_batter',\n",
       " 'num_height_pitcher',\n",
       " 'num_weight_pitcher',\n",
       " 'ord_draft_pitcher',\n",
       " 'num_annual_salary_pitcher',\n",
       " 'cat_training_player_pitcher',\n",
       " 'cat_position_pitcher',\n",
       " 'cat_country_pitcher']"
      ]
     },
     "execution_count": 13,
     "metadata": {},
     "output_type": "execute_result"
    }
   ],
   "source": [
    "features = []\n",
    "for x in df_tr.keys():\n",
    "    if re.match(r\"^num_|^ord_|^cat_\", x) is not None:\n",
    "        features.append(x)\n",
    "features"
   ]
  },
  {
   "cell_type": "code",
   "execution_count": 14,
   "metadata": {},
   "outputs": [],
   "source": [
    "tr_X = df_tr[features]\n",
    "tr_Y = df_tr[\"ball_type\"]"
   ]
  },
  {
   "cell_type": "code",
   "execution_count": 15,
   "metadata": {},
   "outputs": [],
   "source": [
    "from sklearn.model_selection import KFold\n",
    "\n",
    "cv_num = 5\n",
    "kf = KFold(n_splits=cv_num, shuffle=True)\n",
    "\n",
    "kf_index = []\n",
    "for tr_i, te_i in kf.split(tr_X):\n",
    "    kf_index.append([tr_i, te_i])"
   ]
  },
  {
   "cell_type": "code",
   "execution_count": 19,
   "metadata": {},
   "outputs": [
    {
     "name": "stdout",
     "output_type": "stream",
     "text": [
      "train 0\n",
      "[50]\tvalid_0's multi_logloss: 1.26144\n",
      "[100]\tvalid_0's multi_logloss: 1.208\n",
      "[150]\tvalid_0's multi_logloss: 1.18863\n",
      "[200]\tvalid_0's multi_logloss: 1.17639\n",
      "[250]\tvalid_0's multi_logloss: 1.16875\n",
      "[300]\tvalid_0's multi_logloss: 1.16297\n",
      "[350]\tvalid_0's multi_logloss: 1.15808\n",
      "[400]\tvalid_0's multi_logloss: 1.15403\n",
      "[450]\tvalid_0's multi_logloss: 1.1512\n",
      "[500]\tvalid_0's multi_logloss: 1.14838\n",
      "[550]\tvalid_0's multi_logloss: 1.14636\n",
      "[600]\tvalid_0's multi_logloss: 1.14496\n",
      "[650]\tvalid_0's multi_logloss: 1.14381\n",
      "[700]\tvalid_0's multi_logloss: 1.14301\n",
      "[750]\tvalid_0's multi_logloss: 1.1426\n",
      "[800]\tvalid_0's multi_logloss: 1.14272\n",
      "[850]\tvalid_0's multi_logloss: 1.14274\n",
      "[900]\tvalid_0's multi_logloss: 1.14286\n",
      "[950]\tvalid_0's multi_logloss: 1.14286\n",
      "[1000]\tvalid_0's multi_logloss: 1.14315\n",
      "train 1\n",
      "[50]\tvalid_0's multi_logloss: 1.26654\n",
      "[100]\tvalid_0's multi_logloss: 1.21409\n",
      "[150]\tvalid_0's multi_logloss: 1.19428\n",
      "[200]\tvalid_0's multi_logloss: 1.18201\n",
      "[250]\tvalid_0's multi_logloss: 1.17337\n",
      "[300]\tvalid_0's multi_logloss: 1.1663\n",
      "[350]\tvalid_0's multi_logloss: 1.16116\n",
      "[400]\tvalid_0's multi_logloss: 1.15772\n",
      "[450]\tvalid_0's multi_logloss: 1.1549\n",
      "[500]\tvalid_0's multi_logloss: 1.1522\n",
      "[550]\tvalid_0's multi_logloss: 1.15065\n",
      "[600]\tvalid_0's multi_logloss: 1.14908\n",
      "[650]\tvalid_0's multi_logloss: 1.14769\n",
      "[700]\tvalid_0's multi_logloss: 1.14705\n",
      "[750]\tvalid_0's multi_logloss: 1.14629\n",
      "[800]\tvalid_0's multi_logloss: 1.14581\n",
      "[850]\tvalid_0's multi_logloss: 1.14564\n",
      "[900]\tvalid_0's multi_logloss: 1.14545\n",
      "[950]\tvalid_0's multi_logloss: 1.14565\n",
      "[1000]\tvalid_0's multi_logloss: 1.14587\n",
      "train 2\n",
      "[50]\tvalid_0's multi_logloss: 1.26164\n",
      "[100]\tvalid_0's multi_logloss: 1.20928\n",
      "[150]\tvalid_0's multi_logloss: 1.18865\n",
      "[200]\tvalid_0's multi_logloss: 1.17655\n",
      "[250]\tvalid_0's multi_logloss: 1.16956\n",
      "[300]\tvalid_0's multi_logloss: 1.16346\n",
      "[350]\tvalid_0's multi_logloss: 1.15886\n",
      "[400]\tvalid_0's multi_logloss: 1.15573\n",
      "[450]\tvalid_0's multi_logloss: 1.15311\n",
      "[500]\tvalid_0's multi_logloss: 1.15056\n",
      "[550]\tvalid_0's multi_logloss: 1.14885\n",
      "[600]\tvalid_0's multi_logloss: 1.14721\n",
      "[650]\tvalid_0's multi_logloss: 1.14579\n",
      "[700]\tvalid_0's multi_logloss: 1.14474\n",
      "[750]\tvalid_0's multi_logloss: 1.14426\n",
      "[800]\tvalid_0's multi_logloss: 1.14431\n",
      "[850]\tvalid_0's multi_logloss: 1.1445\n",
      "[900]\tvalid_0's multi_logloss: 1.14469\n",
      "[950]\tvalid_0's multi_logloss: 1.14476\n",
      "[1000]\tvalid_0's multi_logloss: 1.14507\n",
      "train 3\n",
      "[50]\tvalid_0's multi_logloss: 1.25769\n",
      "[100]\tvalid_0's multi_logloss: 1.2055\n",
      "[150]\tvalid_0's multi_logloss: 1.18495\n",
      "[200]\tvalid_0's multi_logloss: 1.17298\n",
      "[250]\tvalid_0's multi_logloss: 1.16395\n",
      "[300]\tvalid_0's multi_logloss: 1.15824\n",
      "[350]\tvalid_0's multi_logloss: 1.15416\n",
      "[400]\tvalid_0's multi_logloss: 1.15014\n",
      "[450]\tvalid_0's multi_logloss: 1.14707\n",
      "[500]\tvalid_0's multi_logloss: 1.14424\n",
      "[550]\tvalid_0's multi_logloss: 1.14251\n",
      "[600]\tvalid_0's multi_logloss: 1.14119\n",
      "[650]\tvalid_0's multi_logloss: 1.14038\n",
      "[700]\tvalid_0's multi_logloss: 1.13991\n",
      "[750]\tvalid_0's multi_logloss: 1.13981\n",
      "[800]\tvalid_0's multi_logloss: 1.13929\n",
      "[850]\tvalid_0's multi_logloss: 1.13911\n",
      "[900]\tvalid_0's multi_logloss: 1.13915\n",
      "[950]\tvalid_0's multi_logloss: 1.1394\n",
      "[1000]\tvalid_0's multi_logloss: 1.13959\n",
      "train 4\n",
      "[50]\tvalid_0's multi_logloss: 1.2615\n",
      "[100]\tvalid_0's multi_logloss: 1.20967\n",
      "[150]\tvalid_0's multi_logloss: 1.18937\n",
      "[200]\tvalid_0's multi_logloss: 1.17722\n",
      "[250]\tvalid_0's multi_logloss: 1.16835\n",
      "[300]\tvalid_0's multi_logloss: 1.16308\n",
      "[350]\tvalid_0's multi_logloss: 1.15797\n",
      "[400]\tvalid_0's multi_logloss: 1.15347\n",
      "[450]\tvalid_0's multi_logloss: 1.15057\n",
      "[500]\tvalid_0's multi_logloss: 1.14819\n",
      "[550]\tvalid_0's multi_logloss: 1.14672\n",
      "[600]\tvalid_0's multi_logloss: 1.14545\n",
      "[650]\tvalid_0's multi_logloss: 1.14405\n",
      "[700]\tvalid_0's multi_logloss: 1.14348\n",
      "[750]\tvalid_0's multi_logloss: 1.1431\n",
      "[800]\tvalid_0's multi_logloss: 1.14251\n",
      "[850]\tvalid_0's multi_logloss: 1.14275\n",
      "[900]\tvalid_0's multi_logloss: 1.14284\n",
      "[950]\tvalid_0's multi_logloss: 1.143\n",
      "[1000]\tvalid_0's multi_logloss: 1.14332\n"
     ]
    }
   ],
   "source": [
    "from sklearn.metrics import log_loss # モデル評価用(logloss) \n",
    "import lightgbm as lgb #LightGBM\n",
    "\n",
    "# params\n",
    "params = {\n",
    "    \"task\": \"train\",\n",
    "    \"boosting_type\": \"gbdt\",\n",
    "    \"objective\": \"multiclass\",\n",
    "    \"num_class\": 8,\n",
    "    \"metric\": \"multi_logloss\",\n",
    "    \"verbose\": 2\n",
    "}\n",
    "\n",
    "# train\n",
    "loss_list = []\n",
    "models = []\n",
    "for i, kf in enumerate(kf_index):\n",
    "    train_x = tr_X.iloc[kf[0]]\n",
    "    train_y = tr_Y.iloc[kf[0]]\n",
    "    test_x = tr_X.iloc[kf[1]]\n",
    "    test_y = tr_Y.iloc[kf[1]]\n",
    "    \n",
    "    \n",
    "    train_data = lgb.Dataset(train_x, label=train_y)\n",
    "    eval_data = lgb.Dataset(test_x, label=test_y)\n",
    "    \n",
    "    print(f\"train {i}\")\n",
    "    gbm = lgb.train(\n",
    "        params,\n",
    "        train_data, \n",
    "        valid_sets=eval_data,\n",
    "        num_boost_round=1000,\n",
    "        early_stopping_round=5,\n",
    "        verbose_eval=50\n",
    "    )\n",
    "    \n",
    "    models.append(gbm)"
   ]
  },
  {
   "cell_type": "markdown",
   "metadata": {},
   "source": [
    "# 予測"
   ]
  },
  {
   "cell_type": "code",
   "execution_count": 20,
   "metadata": {},
   "outputs": [],
   "source": [
    "df_te = cnvrt.convert_df(df_te_pitch, df_te_player, isTrain=False)\n",
    "te_X = df_te[features]"
   ]
  },
  {
   "cell_type": "code",
   "execution_count": 21,
   "metadata": {},
   "outputs": [
    {
     "name": "stdout",
     "output_type": "stream",
     "text": [
      "start model0\n",
      "end time : 188.2377369403839\n",
      "start model1\n",
      "end time : 189.3208179473877\n",
      "start model2\n",
      "end time : 183.81879091262817\n",
      "start model3\n",
      "end time : 176.676118850708\n",
      "start model4\n",
      "end time : 199.81790328025818\n"
     ]
    }
   ],
   "source": [
    "result = []\n",
    "for i, model in enumerate(models):\n",
    "    start = time.time()\n",
    "    print(f\"start model{i}\")\n",
    "    result.append(model.predict(te_X))\n",
    "    print(f\"end time : {time.time()-start}\")"
   ]
  },
  {
   "cell_type": "code",
   "execution_count": 22,
   "metadata": {},
   "outputs": [],
   "source": [
    "from scipy.special import softmax\n",
    "result = np.array(result)\n",
    "final_result = np.sum(result, axis=0)\n",
    "final_result = softmax(final_result, axis=1)"
   ]
  },
  {
   "cell_type": "code",
   "execution_count": 23,
   "metadata": {},
   "outputs": [],
   "source": [
    "df_submit = pd.concat([df_smp[0], pd.DataFrame(final_result)], axis=1).reset_index(drop=True)\n",
    "df_submit.columns = range(df_submit.shape[1])\n",
    "df_submit.to_csv(\"submits/v3.csv\", index=False, header=False)"
   ]
  }
 ],
 "metadata": {
  "kernelspec": {
   "display_name": "Python 3",
   "language": "python",
   "name": "python3"
  },
  "language_info": {
   "codemirror_mode": {
    "name": "ipython",
    "version": 3
   },
   "file_extension": ".py",
   "mimetype": "text/x-python",
   "name": "python",
   "nbconvert_exporter": "python",
   "pygments_lexer": "ipython3",
   "version": "3.6.10"
  }
 },
 "nbformat": 4,
 "nbformat_minor": 4
}
