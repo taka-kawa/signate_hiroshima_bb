{
 "cells": [
  {
   "cell_type": "markdown",
   "metadata": {},
   "source": [
    "# メモ\n",
    "- 打者&投手情報を考慮\n",
    "\n",
    "# 特徴量\n",
    "## pitch\n",
    "- 試合内投球数\n",
    "- イニング\n",
    "- イニング内打席数\n",
    "- 打席内投球数\n",
    "- 投手投球左右\n",
    "- 投手役割\n",
    "- 打者打席左右\n",
    "- 打者打順\n",
    "- プレイ前アウト数\n",
    "- プレイ前ボール数\n",
    "- プレイ前ストライク数\n",
    "- プレイ前走者状況\n",
    "\n",
    "## player\n",
    "### 打者&投手\n",
    "- 育成選手F\n",
    "- 位置\n",
    "- 身長\n",
    "- 体重\n",
    "- 年俸\n",
    "- 出身国"
   ]
  },
  {
   "cell_type": "code",
   "execution_count": 1,
   "metadata": {},
   "outputs": [],
   "source": [
    "import pandas as pd\n",
    "import numpy as np\n",
    "pd.set_option('display.max_columns', 500)\n",
    "pd.set_option('display.max_rows', 500)\n",
    "\n",
    "df_tr_pitch = pd.read_csv('../data/train_pitch.csv')\n",
    "df_tr_player = pd.read_csv('../data/train_player.csv')\n",
    "df_te_pitch = pd.read_csv('../data/test_pitch.csv')\n",
    "df_te_player = pd.read_csv('../data/test_player.csv')\n",
    "df_smp = pd.read_csv('../data/sample_submit_ball_type.csv', header=None)"
   ]
  },
  {
   "cell_type": "code",
   "execution_count": 24,
   "metadata": {},
   "outputs": [],
   "source": [
    "import sys\n",
    "sys.path.append(\"..\")\n",
    "\n",
    "import tqdm\n",
    "import time\n",
    "import preprocess\n",
    "import importlib\n",
    "importlib.reload(preprocess)\n",
    "cnvrt = preprocess.Converter()\n",
    "df_tr = cnvrt.convert_df(df_tr_pitch, df_tr_player)"
   ]
  },
  {
   "cell_type": "code",
   "execution_count": 25,
   "metadata": {
    "scrolled": true
   },
   "outputs": [
    {
     "name": "stdout",
     "output_type": "stream",
     "text": [
      "num_data\n",
      "ball_type\n",
      "corse\n",
      "num_game_throw\n",
      "ord_inning\n",
      "num_inning_bat\n",
      "num_pitch_in_bat\n",
      "pitcher_id\n",
      "pitcher_lr\n",
      "pitcher_role\n",
      "batter_id\n",
      "bat_lr\n",
      "ord_bat\n",
      "num_out\n",
      "num_ball\n",
      "num_strike\n",
      "runner_state\n",
      "cat_pitcher_lr\n",
      "cat_pitcher_role\n",
      "cat_bat_lr\n",
      "cat_runner_state\n",
      "player_id_batter\n",
      "training_player_batter\n",
      "position_batter\n",
      "num_height_batter\n",
      "num_weight_batter\n",
      "num_annual_salary_batter\n",
      "country_batter\n",
      "cat_training_player_batter\n",
      "cat_position_batter\n",
      "cat_country_batter\n",
      "player_id_pitcher\n",
      "training_player_pitcher\n",
      "position_pitcher\n",
      "num_height_pitcher\n",
      "num_weight_pitcher\n",
      "num_annual_salary_pitcher\n",
      "country_pitcher\n",
      "cat_training_player_pitcher\n",
      "cat_position_pitcher\n",
      "cat_country_pitcher\n"
     ]
    }
   ],
   "source": [
    "for x in df_tr.keys():\n",
    "    if x not in [\"\", \"_pitcher\", \"_batter\"]:\n",
    "        print(x)"
   ]
  },
  {
   "cell_type": "code",
   "execution_count": 26,
   "metadata": {},
   "outputs": [],
   "source": [
    "features = [\n",
    "    \"num_game_throw\",\n",
    "    \"ord_inning\",\n",
    "    \"num_inning_bat\",\n",
    "    \"num_pitch_in_bat\",\n",
    "    \"cat_pitcher_lr\",\n",
    "    \"cat_pitcher_role\",\n",
    "    \"cat_bat_lr\",\n",
    "    \"ord_bat\",\n",
    "    \"num_out\",\n",
    "    \"num_ball\",\n",
    "    \"num_strike\",\n",
    "    \"cat_pitcher_lr\",\n",
    "    \"cat_training_player_batter\",\n",
    "    \"cat_position_batter\",\n",
    "    \"num_height_batter\",\n",
    "    \"num_weight_batter\",\n",
    "    \"num_annual_salary_batter\",\n",
    "    \"num_height_pitcher\",\n",
    "    \"num_weight_pitcher\",\n",
    "    \"num_annual_salary_pitcher\",\n",
    "    \"cat_training_player_pitcher\",\n",
    "    \"cat_country_pitcher\",\n",
    "    \"cat_position_pitcher\",\n",
    "    \"cat_country_pitcher\",\n",
    "]"
   ]
  },
  {
   "cell_type": "code",
   "execution_count": 27,
   "metadata": {},
   "outputs": [],
   "source": [
    "tr_X = df_tr[features]\n",
    "tr_Y = df_tr[\"ball_type\"]"
   ]
  },
  {
   "cell_type": "code",
   "execution_count": 43,
   "metadata": {},
   "outputs": [
    {
     "data": {
      "text/plain": [
       "521650"
      ]
     },
     "execution_count": 43,
     "metadata": {},
     "output_type": "execute_result"
    }
   ],
   "source": [
    "len(df_te_pitch)"
   ]
  },
  {
   "cell_type": "code",
   "execution_count": 28,
   "metadata": {},
   "outputs": [],
   "source": [
    "from sklearn.model_selection import KFold\n",
    "\n",
    "cv_num = 5\n",
    "kf = KFold(n_splits=cv_num, shuffle=True)\n",
    "\n",
    "kf_index = []\n",
    "for tr_i, te_i in kf.split(tr_X):\n",
    "    kf_index.append([tr_i, te_i])"
   ]
  },
  {
   "cell_type": "code",
   "execution_count": 29,
   "metadata": {},
   "outputs": [
    {
     "name": "stdout",
     "output_type": "stream",
     "text": [
      "train 0\n",
      "[100]\tvalid_0's multi_logloss: 1.2282\n",
      "train 1\n",
      "[100]\tvalid_0's multi_logloss: 1.22569\n",
      "train 2\n",
      "[100]\tvalid_0's multi_logloss: 1.22776\n",
      "train 3\n",
      "[100]\tvalid_0's multi_logloss: 1.22442\n",
      "train 4\n",
      "[100]\tvalid_0's multi_logloss: 1.23086\n"
     ]
    }
   ],
   "source": [
    "from sklearn.metrics import log_loss # モデル評価用(logloss) \n",
    "import lightgbm as lgb #LightGBM\n",
    "\n",
    "# params\n",
    "params = {\n",
    "    \"task\": \"train\",\n",
    "    \"boosting_type\": \"gbdt\",\n",
    "    \"objective\": \"multiclass\",\n",
    "    \"num_class\": 8,\n",
    "    \"metric\": \"multi_logloss\",\n",
    "    \"verbose\": 2\n",
    "}\n",
    "\n",
    "# train\n",
    "loss_list = []\n",
    "models = []\n",
    "for i, kf in enumerate(kf_index):\n",
    "    train_x = tr_X.iloc[kf[0]]\n",
    "    train_y = tr_Y.iloc[kf[0]]\n",
    "    test_x = tr_X.iloc[kf[1]]\n",
    "    test_y = tr_Y.iloc[kf[1]]\n",
    "    \n",
    "    \n",
    "    train_data = lgb.Dataset(train_x, label=train_y)\n",
    "    eval_data = lgb.Dataset(test_x, label=test_y)\n",
    "    \n",
    "    print(f\"train {i}\")\n",
    "    gbm = lgb.train(\n",
    "        params,\n",
    "        train_data, \n",
    "        valid_sets=eval_data,\n",
    "        num_boost_round=100,\n",
    "        verbose_eval=100\n",
    "    )\n",
    "    \n",
    "    models.append(gbm)"
   ]
  },
  {
   "cell_type": "markdown",
   "metadata": {},
   "source": [
    "# 予測"
   ]
  },
  {
   "cell_type": "code",
   "execution_count": 74,
   "metadata": {},
   "outputs": [],
   "source": [
    "df_te = cnvrt.convert_df(df_te_pitch, df_te_player, isTrain=False)\n",
    "te_X = df_te[features]"
   ]
  },
  {
   "cell_type": "code",
   "execution_count": 75,
   "metadata": {},
   "outputs": [
    {
     "name": "stdout",
     "output_type": "stream",
     "text": [
      "start model0\n",
      "end time : 17.01969885826111\n",
      "start model1\n",
      "end time : 15.994406938552856\n",
      "start model2\n",
      "end time : 15.238116025924683\n",
      "start model3\n",
      "end time : 14.292888879776001\n",
      "start model4\n",
      "end time : 13.647664070129395\n"
     ]
    }
   ],
   "source": [
    "result = []\n",
    "for i, model in enumerate(models):\n",
    "    start = time.time()\n",
    "    print(f\"start model{i}\")\n",
    "    result.append(model.predict(te_X))\n",
    "    print(f\"end time : {time.time()-start}\")"
   ]
  },
  {
   "cell_type": "code",
   "execution_count": 76,
   "metadata": {},
   "outputs": [],
   "source": [
    "from scipy.special import softmax\n",
    "result = np.array(result)\n",
    "final_result = np.sum(result, axis=0)\n",
    "final_result = softmax(final_result, axis=1)"
   ]
  },
  {
   "cell_type": "code",
   "execution_count": 77,
   "metadata": {},
   "outputs": [],
   "source": [
    "df_submit = pd.concat([df_smp[0], pd.DataFrame(final_result)], axis=1).reset_index(drop=True)\n",
    "df_submit.columns = range(df_submit.shape[1])\n",
    "df_submit.to_csv(\"submits/v2.csv\", index=False, header=False)"
   ]
  }
 ],
 "metadata": {
  "kernelspec": {
   "display_name": "Python 3",
   "language": "python",
   "name": "python3"
  },
  "language_info": {
   "codemirror_mode": {
    "name": "ipython",
    "version": 3
   },
   "file_extension": ".py",
   "mimetype": "text/x-python",
   "name": "python",
   "nbconvert_exporter": "python",
   "pygments_lexer": "ipython3",
   "version": "3.6.10"
  }
 },
 "nbformat": 4,
 "nbformat_minor": 4
}
